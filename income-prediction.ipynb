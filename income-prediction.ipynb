{
 "cells": [
  {
   "cell_type": "code",
   "execution_count": 1,
   "id": "b059c4f7",
   "metadata": {
    "ExecuteTime": {
     "end_time": "2023-05-03T13:52:55.458781600Z",
     "start_time": "2023-05-03T13:52:54.577654800Z"
    }
   },
   "outputs": [],
   "source": [
    "import pandas as pd\n",
    "import numpy as np\n",
    "from scipy.stats import spearmanr, pearsonr\n",
    "from sklearn.preprocessing import LabelEncoder\n",
    "from sklearn.metrics import accuracy_score, confusion_matrix\n",
    "from sklearn.linear_model import LogisticRegression\n",
    "from sklearn.svm import SVC\n",
    "from sklearn.tree import DecisionTreeClassifier\n",
    "from sklearn.preprocessing import MinMaxScaler\n",
    "from scipy.stats import spearmanr, pearsonr\n",
    "from sklearn.preprocessing import LabelEncoder\n",
    "from sklearn.model_selection import train_test_split"
   ]
  },
  {
   "cell_type": "markdown",
   "id": "1582ba8a",
   "metadata": {},
   "source": [
    "# read data and show it"
   ]
  },
  {
   "cell_type": "code",
   "execution_count": 2,
   "id": "8bc8f7ff",
   "metadata": {
    "ExecuteTime": {
     "end_time": "2023-05-03T13:52:57.093228Z",
     "start_time": "2023-05-03T13:52:57.025238500Z"
    }
   },
   "outputs": [],
   "source": [
    "#read data\n",
    "train_data = pd.read_csv(\"date set/train_data.csv\")\n",
    "test_data = pd.read_csv(\"date set/test_data.csv\")"
   ]
  },
  {
   "cell_type": "code",
   "execution_count": 4,
   "id": "6b39eb85",
   "metadata": {
    "ExecuteTime": {
     "end_time": "2023-05-03T13:53:04.255357800Z",
     "start_time": "2023-05-03T13:53:04.204411700Z"
    }
   },
   "outputs": [
    {
     "data": {
      "text/plain": "   age          workclass  fnlwgt   education  education-num   \n0   39          State-gov   77516   Bachelors             13  \\\n1   50   Self-emp-not-inc   83311   Bachelors             13   \n2   38            Private  215646     HS-grad              9   \n3   53            Private  234721        11th              7   \n4   28            Private  338409   Bachelors             13   \n\n        marital-status          occupation    relationship    race      sex   \n0        Never-married        Adm-clerical   Not-in-family   White     Male  \\\n1   Married-civ-spouse     Exec-managerial         Husband   White     Male   \n2             Divorced   Handlers-cleaners   Not-in-family   White     Male   \n3   Married-civ-spouse   Handlers-cleaners         Husband   Black     Male   \n4   Married-civ-spouse      Prof-specialty            Wife   Black   Female   \n\n   capital-gain  capital-loss  hours-per-week  native-country Income   \n0          2174             0              40   United-States   <=50K  \n1             0             0              13   United-States   <=50K  \n2             0             0              40   United-States   <=50K  \n3             0             0              40   United-States   <=50K  \n4             0             0              40            Cuba   <=50K  ",
      "text/html": "<div>\n<style scoped>\n    .dataframe tbody tr th:only-of-type {\n        vertical-align: middle;\n    }\n\n    .dataframe tbody tr th {\n        vertical-align: top;\n    }\n\n    .dataframe thead th {\n        text-align: right;\n    }\n</style>\n<table border=\"1\" class=\"dataframe\">\n  <thead>\n    <tr style=\"text-align: right;\">\n      <th></th>\n      <th>age</th>\n      <th>workclass</th>\n      <th>fnlwgt</th>\n      <th>education</th>\n      <th>education-num</th>\n      <th>marital-status</th>\n      <th>occupation</th>\n      <th>relationship</th>\n      <th>race</th>\n      <th>sex</th>\n      <th>capital-gain</th>\n      <th>capital-loss</th>\n      <th>hours-per-week</th>\n      <th>native-country</th>\n      <th>Income</th>\n    </tr>\n  </thead>\n  <tbody>\n    <tr>\n      <th>0</th>\n      <td>39</td>\n      <td>State-gov</td>\n      <td>77516</td>\n      <td>Bachelors</td>\n      <td>13</td>\n      <td>Never-married</td>\n      <td>Adm-clerical</td>\n      <td>Not-in-family</td>\n      <td>White</td>\n      <td>Male</td>\n      <td>2174</td>\n      <td>0</td>\n      <td>40</td>\n      <td>United-States</td>\n      <td>&lt;=50K</td>\n    </tr>\n    <tr>\n      <th>1</th>\n      <td>50</td>\n      <td>Self-emp-not-inc</td>\n      <td>83311</td>\n      <td>Bachelors</td>\n      <td>13</td>\n      <td>Married-civ-spouse</td>\n      <td>Exec-managerial</td>\n      <td>Husband</td>\n      <td>White</td>\n      <td>Male</td>\n      <td>0</td>\n      <td>0</td>\n      <td>13</td>\n      <td>United-States</td>\n      <td>&lt;=50K</td>\n    </tr>\n    <tr>\n      <th>2</th>\n      <td>38</td>\n      <td>Private</td>\n      <td>215646</td>\n      <td>HS-grad</td>\n      <td>9</td>\n      <td>Divorced</td>\n      <td>Handlers-cleaners</td>\n      <td>Not-in-family</td>\n      <td>White</td>\n      <td>Male</td>\n      <td>0</td>\n      <td>0</td>\n      <td>40</td>\n      <td>United-States</td>\n      <td>&lt;=50K</td>\n    </tr>\n    <tr>\n      <th>3</th>\n      <td>53</td>\n      <td>Private</td>\n      <td>234721</td>\n      <td>11th</td>\n      <td>7</td>\n      <td>Married-civ-spouse</td>\n      <td>Handlers-cleaners</td>\n      <td>Husband</td>\n      <td>Black</td>\n      <td>Male</td>\n      <td>0</td>\n      <td>0</td>\n      <td>40</td>\n      <td>United-States</td>\n      <td>&lt;=50K</td>\n    </tr>\n    <tr>\n      <th>4</th>\n      <td>28</td>\n      <td>Private</td>\n      <td>338409</td>\n      <td>Bachelors</td>\n      <td>13</td>\n      <td>Married-civ-spouse</td>\n      <td>Prof-specialty</td>\n      <td>Wife</td>\n      <td>Black</td>\n      <td>Female</td>\n      <td>0</td>\n      <td>0</td>\n      <td>40</td>\n      <td>Cuba</td>\n      <td>&lt;=50K</td>\n    </tr>\n  </tbody>\n</table>\n</div>"
     },
     "execution_count": 4,
     "metadata": {},
     "output_type": "execute_result"
    }
   ],
   "source": [
    "train_data.head()"
   ]
  },
  {
   "cell_type": "markdown",
   "id": "afef5354",
   "metadata": {},
   "source": [
    "# Preprocess data"
   ]
  },
  {
   "cell_type": "code",
   "execution_count": 4,
   "id": "3579afa3",
   "metadata": {
    "ExecuteTime": {
     "end_time": "2023-05-03T13:51:33.803987500Z",
     "start_time": "2023-05-03T13:51:33.799971Z"
    }
   },
   "outputs": [],
   "source": [
    "\n",
    "class preprocess_data:\n",
    "\n",
    "     # set all column names to lower case and delete spaces from whole table symbols\n",
    "     @staticmethod\n",
    "     def clean_table_from_spaces_and_symbols(df):\n",
    "         # clean column names\n",
    "         df.columns = df.columns.str.lower().str.replace(' ', '')\n",
    "         df.columns = df.columns.str.lower().str.replace('-', '')\n",
    "         df.columns = df.columns.str.lower().str.replace('.', '')\n",
    "         # clean values\n",
    "         for col in df.columns:\n",
    "             # if column type is object\n",
    "             if df[col].dtype == 'object':\n",
    "                 df[col] = df[col].str.lower().str.replace(' ', '')\n",
    "                 df[col] = df[col].str.lower().str.replace('-', '')\n",
    "                 df[col] = df[col].str.lower().str.replace('.', '')\n",
    "         return df\n",
    "\n",
    "\n",
    "\n",
    "     # fill missing values with most frequent value\n",
    "     @staticmethod\n",
    "     def fill_missing_values(df):\n",
    "         df = df.replace('?', np.nan)\n",
    "         for col in df.columns:\n",
    "             df[col].fillna(df[col].mode()[0], inplace=True)\n",
    "         return df"
   ]
  },
  {
   "cell_type": "code",
   "execution_count": 5,
   "id": "2edfe6a0",
   "metadata": {
    "ExecuteTime": {
     "end_time": "2023-05-03T13:51:34.817691500Z",
     "start_time": "2023-05-03T13:51:34.398438700Z"
    }
   },
   "outputs": [
    {
     "data": {
      "text/plain": "   age      workclass  fnlwgt  education  educationnum     maritalstatus   \n0   39       stategov   77516  bachelors            13      nevermarried  \\\n1   50  selfempnotinc   83311  bachelors            13  marriedcivspouse   \n2   38        private  215646     hsgrad             9          divorced   \n3   53        private  234721       11th             7  marriedcivspouse   \n4   28        private  338409  bachelors            13  marriedcivspouse   \n\n         occupation relationship   race     sex  capitalgain  capitalloss   \n0       admclerical  notinfamily  white    male         2174            0  \\\n1    execmanagerial      husband  white    male            0            0   \n2  handlerscleaners  notinfamily  white    male            0            0   \n3  handlerscleaners      husband  black    male            0            0   \n4     profspecialty         wife  black  female            0            0   \n\n   hoursperweek nativecountry income  \n0            40  unitedstates  <=50k  \n1            13  unitedstates  <=50k  \n2            40  unitedstates  <=50k  \n3            40  unitedstates  <=50k  \n4            40          cuba  <=50k  ",
      "text/html": "<div>\n<style scoped>\n    .dataframe tbody tr th:only-of-type {\n        vertical-align: middle;\n    }\n\n    .dataframe tbody tr th {\n        vertical-align: top;\n    }\n\n    .dataframe thead th {\n        text-align: right;\n    }\n</style>\n<table border=\"1\" class=\"dataframe\">\n  <thead>\n    <tr style=\"text-align: right;\">\n      <th></th>\n      <th>age</th>\n      <th>workclass</th>\n      <th>fnlwgt</th>\n      <th>education</th>\n      <th>educationnum</th>\n      <th>maritalstatus</th>\n      <th>occupation</th>\n      <th>relationship</th>\n      <th>race</th>\n      <th>sex</th>\n      <th>capitalgain</th>\n      <th>capitalloss</th>\n      <th>hoursperweek</th>\n      <th>nativecountry</th>\n      <th>income</th>\n    </tr>\n  </thead>\n  <tbody>\n    <tr>\n      <th>0</th>\n      <td>39</td>\n      <td>stategov</td>\n      <td>77516</td>\n      <td>bachelors</td>\n      <td>13</td>\n      <td>nevermarried</td>\n      <td>admclerical</td>\n      <td>notinfamily</td>\n      <td>white</td>\n      <td>male</td>\n      <td>2174</td>\n      <td>0</td>\n      <td>40</td>\n      <td>unitedstates</td>\n      <td>&lt;=50k</td>\n    </tr>\n    <tr>\n      <th>1</th>\n      <td>50</td>\n      <td>selfempnotinc</td>\n      <td>83311</td>\n      <td>bachelors</td>\n      <td>13</td>\n      <td>marriedcivspouse</td>\n      <td>execmanagerial</td>\n      <td>husband</td>\n      <td>white</td>\n      <td>male</td>\n      <td>0</td>\n      <td>0</td>\n      <td>13</td>\n      <td>unitedstates</td>\n      <td>&lt;=50k</td>\n    </tr>\n    <tr>\n      <th>2</th>\n      <td>38</td>\n      <td>private</td>\n      <td>215646</td>\n      <td>hsgrad</td>\n      <td>9</td>\n      <td>divorced</td>\n      <td>handlerscleaners</td>\n      <td>notinfamily</td>\n      <td>white</td>\n      <td>male</td>\n      <td>0</td>\n      <td>0</td>\n      <td>40</td>\n      <td>unitedstates</td>\n      <td>&lt;=50k</td>\n    </tr>\n    <tr>\n      <th>3</th>\n      <td>53</td>\n      <td>private</td>\n      <td>234721</td>\n      <td>11th</td>\n      <td>7</td>\n      <td>marriedcivspouse</td>\n      <td>handlerscleaners</td>\n      <td>husband</td>\n      <td>black</td>\n      <td>male</td>\n      <td>0</td>\n      <td>0</td>\n      <td>40</td>\n      <td>unitedstates</td>\n      <td>&lt;=50k</td>\n    </tr>\n    <tr>\n      <th>4</th>\n      <td>28</td>\n      <td>private</td>\n      <td>338409</td>\n      <td>bachelors</td>\n      <td>13</td>\n      <td>marriedcivspouse</td>\n      <td>profspecialty</td>\n      <td>wife</td>\n      <td>black</td>\n      <td>female</td>\n      <td>0</td>\n      <td>0</td>\n      <td>40</td>\n      <td>cuba</td>\n      <td>&lt;=50k</td>\n    </tr>\n  </tbody>\n</table>\n</div>"
     },
     "execution_count": 5,
     "metadata": {},
     "output_type": "execute_result"
    }
   ],
   "source": [
    "#clean_tables_from_spaces_and_symbols\n",
    "train_data = preprocess_data.clean_table_from_spaces_and_symbols(train_data)\n",
    "test_data = preprocess_data.clean_table_from_spaces_and_symbols(test_data)\n",
    "train_data.head()"
   ]
  },
  {
   "cell_type": "code",
   "execution_count": 6,
   "id": "e95d7759",
   "metadata": {
    "ExecuteTime": {
     "end_time": "2023-05-03T13:51:34.888034400Z",
     "start_time": "2023-05-03T13:51:34.819732700Z"
    }
   },
   "outputs": [
    {
     "name": "stdout",
     "output_type": "stream",
     "text": [
      "workclass ['stategov' 'selfempnotinc' 'private' 'federalgov' 'localgov' '?'\n",
      " 'selfempinc' 'withoutpay' 'neverworked']\n",
      "\n",
      "\n",
      "education ['bachelors' 'hsgrad' '11th' 'masters' '9th' 'somecollege' 'assocacdm'\n",
      " 'assocvoc' '7th8th' 'doctorate' 'profschool' '5th6th' '10th' '1st4th'\n",
      " 'preschool' '12th']\n",
      "\n",
      "\n",
      "maritalstatus ['nevermarried' 'marriedcivspouse' 'divorced' 'marriedspouseabsent'\n",
      " 'separated' 'marriedafspouse' 'widowed']\n",
      "\n",
      "\n",
      "occupation ['admclerical' 'execmanagerial' 'handlerscleaners' 'profspecialty'\n",
      " 'otherservice' 'sales' 'craftrepair' 'transportmoving' 'farmingfishing'\n",
      " 'machineopinspct' 'techsupport' '?' 'protectiveserv' 'armedforces'\n",
      " 'privhouseserv']\n",
      "\n",
      "\n",
      "relationship ['notinfamily' 'husband' 'wife' 'ownchild' 'unmarried' 'otherrelative']\n",
      "\n",
      "\n",
      "race ['white' 'black' 'asianpacislander' 'amerindianeskimo' 'other']\n",
      "\n",
      "\n",
      "sex ['male' 'female']\n",
      "\n",
      "\n",
      "nativecountry ['unitedstates' 'cuba' 'jamaica' 'india' '?' 'mexico' 'south' 'puertorico'\n",
      " 'honduras' 'england' 'canada' 'germany' 'iran' 'philippines' 'italy'\n",
      " 'poland' 'columbia' 'cambodia' 'thailand' 'ecuador' 'laos' 'taiwan'\n",
      " 'haiti' 'portugal' 'dominicanrepublic' 'elsalvador' 'france' 'guatemala'\n",
      " 'china' 'japan' 'yugoslavia' 'peru' 'outlyingus(guamusvietc)' 'scotland'\n",
      " 'trinadad&tobago' 'greece' 'nicaragua' 'vietnam' 'hong' 'ireland'\n",
      " 'hungary' 'holandnetherlands']\n",
      "\n",
      "\n",
      "income ['<=50k' '>50k']\n",
      "\n",
      "\n"
     ]
    }
   ],
   "source": [
    "# show unique values\n",
    "for col in train_data.columns:\n",
    "    if train_data[col].dtype == 'object':\n",
    "        print(col, train_data[col].unique())\n",
    "        print('\\n')"
   ]
  },
  {
   "cell_type": "code",
   "execution_count": 7,
   "id": "8ce319e8",
   "metadata": {
    "ExecuteTime": {
     "end_time": "2023-05-03T13:51:36.079042200Z",
     "start_time": "2023-05-03T13:51:36.036033700Z"
    }
   },
   "outputs": [
    {
     "name": "stdout",
     "output_type": "stream",
     "text": [
      "age                 0\n",
      "workclass        1836\n",
      "fnlwgt              0\n",
      "education           0\n",
      "educationnum        0\n",
      "maritalstatus       0\n",
      "occupation       1843\n",
      "relationship        0\n",
      "race                0\n",
      "sex                 0\n",
      "capitalgain         0\n",
      "capitalloss         0\n",
      "hoursperweek        0\n",
      "nativecountry     583\n",
      "income              0\n",
      "dtype: int64\n"
     ]
    }
   ],
   "source": [
    "#number of missing values in each columns\n",
    "print(train_data.isin(['?']).sum())"
   ]
  },
  {
   "cell_type": "code",
   "execution_count": 8,
   "id": "2d0b50d1",
   "metadata": {
    "ExecuteTime": {
     "end_time": "2023-05-03T13:51:36.716977800Z",
     "start_time": "2023-05-03T13:51:36.639505600Z"
    }
   },
   "outputs": [],
   "source": [
    "# fill missing values with most frequent value\n",
    "train_data = preprocess_data.fill_missing_values(train_data)\n",
    "test_data = preprocess_data.fill_missing_values(test_data)"
   ]
  },
  {
   "cell_type": "code",
   "execution_count": 9,
   "id": "6a449803",
   "metadata": {
    "ExecuteTime": {
     "end_time": "2023-05-03T13:51:37.335085Z",
     "start_time": "2023-05-03T13:51:37.276349400Z"
    }
   },
   "outputs": [
    {
     "name": "stdout",
     "output_type": "stream",
     "text": [
      "age              0\n",
      "workclass        0\n",
      "fnlwgt           0\n",
      "education        0\n",
      "educationnum     0\n",
      "maritalstatus    0\n",
      "occupation       0\n",
      "relationship     0\n",
      "race             0\n",
      "sex              0\n",
      "capitalgain      0\n",
      "capitalloss      0\n",
      "hoursperweek     0\n",
      "nativecountry    0\n",
      "income           0\n",
      "dtype: int64\n"
     ]
    }
   ],
   "source": [
    "#number of missing values in each columns\n",
    "print(train_data.isin(['?']).sum())"
   ]
  },
  {
   "cell_type": "code",
   "execution_count": 10,
   "id": "8dd64b0c",
   "metadata": {
    "ExecuteTime": {
     "end_time": "2023-05-03T13:51:37.854067900Z",
     "start_time": "2023-05-03T13:51:37.844059800Z"
    }
   },
   "outputs": [
    {
     "data": {
      "text/plain": "(32561, 15)"
     },
     "execution_count": 10,
     "metadata": {},
     "output_type": "execute_result"
    }
   ],
   "source": [
    "train_data.shape"
   ]
  },
  {
   "cell_type": "code",
   "execution_count": 11,
   "id": "8f4e613f",
   "metadata": {
    "ExecuteTime": {
     "end_time": "2023-05-03T13:51:38.471888600Z",
     "start_time": "2023-05-03T13:51:38.392379300Z"
    }
   },
   "outputs": [
    {
     "data": {
      "text/plain": "(32537, 15)"
     },
     "execution_count": 11,
     "metadata": {},
     "output_type": "execute_result"
    }
   ],
   "source": [
    "# drop duplicates\n",
    "train_data = train_data.drop_duplicates()\n",
    "train_data.shape"
   ]
  },
  {
   "cell_type": "markdown",
   "source": [
    "## Feature Engineering"
   ],
   "metadata": {
    "collapsed": false
   }
  },
  {
   "cell_type": "code",
   "execution_count": 12,
   "outputs": [
    {
     "name": "stdout",
     "output_type": "stream",
     "text": [
      "                 age workclass        fnlwgt education  educationnum   \n",
      "count   32537.000000     32537  3.253700e+04     32537  32537.000000  \\\n",
      "unique           NaN         8           NaN        16           NaN   \n",
      "top              NaN   private           NaN    hsgrad           NaN   \n",
      "freq             NaN     24509           NaN     10494           NaN   \n",
      "mean       38.585549       NaN  1.897808e+05       NaN     10.081815   \n",
      "std        13.637984       NaN  1.055565e+05       NaN      2.571633   \n",
      "min        17.000000       NaN  1.228500e+04       NaN      1.000000   \n",
      "25%        28.000000       NaN  1.178270e+05       NaN      9.000000   \n",
      "50%        37.000000       NaN  1.783560e+05       NaN     10.000000   \n",
      "75%        48.000000       NaN  2.369930e+05       NaN     12.000000   \n",
      "max        90.000000       NaN  1.484705e+06       NaN     16.000000   \n",
      "\n",
      "           maritalstatus     occupation relationship   race    sex   \n",
      "count              32537          32537        32537  32537  32537  \\\n",
      "unique                 7             14            6      5      2   \n",
      "top     marriedcivspouse  profspecialty      husband  white   male   \n",
      "freq               14970           5979        13187  27795  21775   \n",
      "mean                 NaN            NaN          NaN    NaN    NaN   \n",
      "std                  NaN            NaN          NaN    NaN    NaN   \n",
      "min                  NaN            NaN          NaN    NaN    NaN   \n",
      "25%                  NaN            NaN          NaN    NaN    NaN   \n",
      "50%                  NaN            NaN          NaN    NaN    NaN   \n",
      "75%                  NaN            NaN          NaN    NaN    NaN   \n",
      "max                  NaN            NaN          NaN    NaN    NaN   \n",
      "\n",
      "         capitalgain   capitalloss  hoursperweek nativecountry income  \n",
      "count   32537.000000  32537.000000  32537.000000         32537  32537  \n",
      "unique           NaN           NaN           NaN            41      2  \n",
      "top              NaN           NaN           NaN  unitedstates  <=50k  \n",
      "freq             NaN           NaN           NaN         29735  24698  \n",
      "mean     1078.443741     87.368227     40.440329           NaN    NaN  \n",
      "std      7387.957424    403.101833     12.346889           NaN    NaN  \n",
      "min         0.000000      0.000000      1.000000           NaN    NaN  \n",
      "25%         0.000000      0.000000     40.000000           NaN    NaN  \n",
      "50%         0.000000      0.000000     40.000000           NaN    NaN  \n",
      "75%         0.000000      0.000000     45.000000           NaN    NaN  \n",
      "max     99999.000000   4356.000000     99.000000           NaN    NaN  \n"
     ]
    }
   ],
   "source": [
    "# 75% of capitalgain and capitalloss is 0, so we can drop it\n",
    "print(train_data.describe(include='all'))"
   ],
   "metadata": {
    "collapsed": false,
    "ExecuteTime": {
     "end_time": "2023-05-03T13:51:39.869413900Z",
     "start_time": "2023-05-03T13:51:39.807257800Z"
    }
   }
  },
  {
   "cell_type": "code",
   "execution_count": 13,
   "id": "330fcffc",
   "metadata": {
    "ExecuteTime": {
     "end_time": "2023-05-03T13:51:40.679559300Z",
     "start_time": "2023-05-03T13:51:40.670551Z"
    }
   },
   "outputs": [],
   "source": [
    "def replace_maritalstatus(df):\n",
    "        df = df.replace(['divorced', 'marriedafspouse',\n",
    "                'marriedcivspouse', 'marriedspouseabsent',\n",
    "                 'nevermarried', 'separated', 'widowed'],\n",
    "                  ['notmarried', 'married', 'married', 'married',\n",
    "                    'notmarried', 'notmarried', 'notmarried'])\n",
    "        return df"
   ]
  },
  {
   "cell_type": "code",
   "execution_count": 14,
   "id": "e9103dc2",
   "metadata": {
    "ExecuteTime": {
     "end_time": "2023-05-03T13:51:42.261914600Z",
     "start_time": "2023-05-03T13:51:42.164113200Z"
    }
   },
   "outputs": [],
   "source": [
    " # replace values with another meaning\n",
    "train_data = replace_maritalstatus(train_data)\n",
    "test_data = replace_maritalstatus(test_data)"
   ]
  },
  {
   "cell_type": "code",
   "execution_count": 15,
   "id": "02461bdb",
   "metadata": {
    "ExecuteTime": {
     "end_time": "2023-05-03T13:51:42.583639200Z",
     "start_time": "2023-05-03T13:51:42.542570600Z"
    }
   },
   "outputs": [
    {
     "data": {
      "text/plain": "   age      workclass  fnlwgt  education  educationnum maritalstatus   \n0   39       stategov   77516  bachelors            13    notmarried  \\\n1   50  selfempnotinc   83311  bachelors            13       married   \n2   38        private  215646     hsgrad             9    notmarried   \n3   53        private  234721       11th             7       married   \n4   28        private  338409  bachelors            13       married   \n\n         occupation relationship   race     sex  capitalgain  capitalloss   \n0       admclerical  notinfamily  white    male         2174            0  \\\n1    execmanagerial      husband  white    male            0            0   \n2  handlerscleaners  notinfamily  white    male            0            0   \n3  handlerscleaners      husband  black    male            0            0   \n4     profspecialty         wife  black  female            0            0   \n\n   hoursperweek nativecountry income  \n0            40  unitedstates  <=50k  \n1            13  unitedstates  <=50k  \n2            40  unitedstates  <=50k  \n3            40  unitedstates  <=50k  \n4            40          cuba  <=50k  ",
      "text/html": "<div>\n<style scoped>\n    .dataframe tbody tr th:only-of-type {\n        vertical-align: middle;\n    }\n\n    .dataframe tbody tr th {\n        vertical-align: top;\n    }\n\n    .dataframe thead th {\n        text-align: right;\n    }\n</style>\n<table border=\"1\" class=\"dataframe\">\n  <thead>\n    <tr style=\"text-align: right;\">\n      <th></th>\n      <th>age</th>\n      <th>workclass</th>\n      <th>fnlwgt</th>\n      <th>education</th>\n      <th>educationnum</th>\n      <th>maritalstatus</th>\n      <th>occupation</th>\n      <th>relationship</th>\n      <th>race</th>\n      <th>sex</th>\n      <th>capitalgain</th>\n      <th>capitalloss</th>\n      <th>hoursperweek</th>\n      <th>nativecountry</th>\n      <th>income</th>\n    </tr>\n  </thead>\n  <tbody>\n    <tr>\n      <th>0</th>\n      <td>39</td>\n      <td>stategov</td>\n      <td>77516</td>\n      <td>bachelors</td>\n      <td>13</td>\n      <td>notmarried</td>\n      <td>admclerical</td>\n      <td>notinfamily</td>\n      <td>white</td>\n      <td>male</td>\n      <td>2174</td>\n      <td>0</td>\n      <td>40</td>\n      <td>unitedstates</td>\n      <td>&lt;=50k</td>\n    </tr>\n    <tr>\n      <th>1</th>\n      <td>50</td>\n      <td>selfempnotinc</td>\n      <td>83311</td>\n      <td>bachelors</td>\n      <td>13</td>\n      <td>married</td>\n      <td>execmanagerial</td>\n      <td>husband</td>\n      <td>white</td>\n      <td>male</td>\n      <td>0</td>\n      <td>0</td>\n      <td>13</td>\n      <td>unitedstates</td>\n      <td>&lt;=50k</td>\n    </tr>\n    <tr>\n      <th>2</th>\n      <td>38</td>\n      <td>private</td>\n      <td>215646</td>\n      <td>hsgrad</td>\n      <td>9</td>\n      <td>notmarried</td>\n      <td>handlerscleaners</td>\n      <td>notinfamily</td>\n      <td>white</td>\n      <td>male</td>\n      <td>0</td>\n      <td>0</td>\n      <td>40</td>\n      <td>unitedstates</td>\n      <td>&lt;=50k</td>\n    </tr>\n    <tr>\n      <th>3</th>\n      <td>53</td>\n      <td>private</td>\n      <td>234721</td>\n      <td>11th</td>\n      <td>7</td>\n      <td>married</td>\n      <td>handlerscleaners</td>\n      <td>husband</td>\n      <td>black</td>\n      <td>male</td>\n      <td>0</td>\n      <td>0</td>\n      <td>40</td>\n      <td>unitedstates</td>\n      <td>&lt;=50k</td>\n    </tr>\n    <tr>\n      <th>4</th>\n      <td>28</td>\n      <td>private</td>\n      <td>338409</td>\n      <td>bachelors</td>\n      <td>13</td>\n      <td>married</td>\n      <td>profspecialty</td>\n      <td>wife</td>\n      <td>black</td>\n      <td>female</td>\n      <td>0</td>\n      <td>0</td>\n      <td>40</td>\n      <td>cuba</td>\n      <td>&lt;=50k</td>\n    </tr>\n  </tbody>\n</table>\n</div>"
     },
     "execution_count": 15,
     "metadata": {},
     "output_type": "execute_result"
    }
   ],
   "source": [
    "train_data.head()"
   ]
  },
  {
   "cell_type": "code",
   "execution_count": 16,
   "id": "197f5aed",
   "metadata": {
    "ExecuteTime": {
     "end_time": "2023-05-03T13:51:43.589176700Z",
     "start_time": "2023-05-03T13:51:43.580176300Z"
    }
   },
   "outputs": [],
   "source": [
    "#get coll between income and featuressss\n",
    "class correlation:\n",
    "\n",
    "    def corr(data, self=None):\n",
    "        data = self.Feature_Encoder(data)\n",
    "        col_names = data.columns\n",
    "        param = []\n",
    "        correlation = []\n",
    "        abs_correlation = []\n",
    "        for c in col_names:\n",
    "            if c != 'income':\n",
    "                if len(data[c].unique()) <= 2:\n",
    "                    corr = spearmanr(data['income'], data[c])[0]\n",
    "                else:\n",
    "                    corr = pearsonr(data['income'], data[c])[0]\n",
    "                param.append(c)\n",
    "                correlation.append(corr)\n",
    "                abs_correlation.append(abs(corr))\n",
    "        param_df = pd.DataFrame({'correlation': correlation, 'parameter': param, 'abs_correlation': abs_correlation})\n",
    "        param_df = param_df.sort_values(by=['abs_correlation'], ascending=False)\n",
    "        return param_df\n",
    "\n",
    "\n",
    "\n",
    "    def Feature_Encoder(X,self=None):\n",
    "        cols = X.columns\n",
    "        for c in cols:\n",
    "            if X[c].dtype == 'object':\n",
    "                lbl = LabelEncoder()\n",
    "                lbl.fit(list(X[c].values))\n",
    "                X[c] = lbl.transform(list(X[c].values))\n",
    "        return X"
   ]
  },
  {
   "cell_type": "code",
   "execution_count": 17,
   "id": "49287111",
   "metadata": {
    "ExecuteTime": {
     "end_time": "2023-05-03T13:51:48.005489800Z",
     "start_time": "2023-05-03T13:51:47.764337900Z"
    }
   },
   "outputs": [
    {
     "data": {
      "text/plain": "    correlation      parameter  abs_correlation\n5     -0.434848  maritalstatus         0.434848\n4      0.335272   educationnum         0.335272\n7     -0.250948   relationship         0.250948\n0      0.234037            age         0.234037\n12     0.229658   hoursperweek         0.229658\n10     0.223336    capitalgain         0.223336\n9      0.215969            sex         0.215969\n11     0.150501    capitalloss         0.150501\n3      0.079366      education         0.079366\n8      0.071847           race         0.071847\n6      0.034516     occupation         0.034516\n13     0.022853  nativecountry         0.022853\n2     -0.009502         fnlwgt         0.009502\n1      0.002702      workclass         0.002702",
      "text/html": "<div>\n<style scoped>\n    .dataframe tbody tr th:only-of-type {\n        vertical-align: middle;\n    }\n\n    .dataframe tbody tr th {\n        vertical-align: top;\n    }\n\n    .dataframe thead th {\n        text-align: right;\n    }\n</style>\n<table border=\"1\" class=\"dataframe\">\n  <thead>\n    <tr style=\"text-align: right;\">\n      <th></th>\n      <th>correlation</th>\n      <th>parameter</th>\n      <th>abs_correlation</th>\n    </tr>\n  </thead>\n  <tbody>\n    <tr>\n      <th>5</th>\n      <td>-0.434848</td>\n      <td>maritalstatus</td>\n      <td>0.434848</td>\n    </tr>\n    <tr>\n      <th>4</th>\n      <td>0.335272</td>\n      <td>educationnum</td>\n      <td>0.335272</td>\n    </tr>\n    <tr>\n      <th>7</th>\n      <td>-0.250948</td>\n      <td>relationship</td>\n      <td>0.250948</td>\n    </tr>\n    <tr>\n      <th>0</th>\n      <td>0.234037</td>\n      <td>age</td>\n      <td>0.234037</td>\n    </tr>\n    <tr>\n      <th>12</th>\n      <td>0.229658</td>\n      <td>hoursperweek</td>\n      <td>0.229658</td>\n    </tr>\n    <tr>\n      <th>10</th>\n      <td>0.223336</td>\n      <td>capitalgain</td>\n      <td>0.223336</td>\n    </tr>\n    <tr>\n      <th>9</th>\n      <td>0.215969</td>\n      <td>sex</td>\n      <td>0.215969</td>\n    </tr>\n    <tr>\n      <th>11</th>\n      <td>0.150501</td>\n      <td>capitalloss</td>\n      <td>0.150501</td>\n    </tr>\n    <tr>\n      <th>3</th>\n      <td>0.079366</td>\n      <td>education</td>\n      <td>0.079366</td>\n    </tr>\n    <tr>\n      <th>8</th>\n      <td>0.071847</td>\n      <td>race</td>\n      <td>0.071847</td>\n    </tr>\n    <tr>\n      <th>6</th>\n      <td>0.034516</td>\n      <td>occupation</td>\n      <td>0.034516</td>\n    </tr>\n    <tr>\n      <th>13</th>\n      <td>0.022853</td>\n      <td>nativecountry</td>\n      <td>0.022853</td>\n    </tr>\n    <tr>\n      <th>2</th>\n      <td>-0.009502</td>\n      <td>fnlwgt</td>\n      <td>0.009502</td>\n    </tr>\n    <tr>\n      <th>1</th>\n      <td>0.002702</td>\n      <td>workclass</td>\n      <td>0.002702</td>\n    </tr>\n  </tbody>\n</table>\n</div>"
     },
     "execution_count": 17,
     "metadata": {},
     "output_type": "execute_result"
    }
   ],
   "source": [
    "correlation.corr(train_data.copy(), correlation )"
   ]
  },
  {
   "cell_type": "code",
   "execution_count": 71,
   "id": "8950ff63",
   "metadata": {},
   "outputs": [],
   "source": [
    "# so we can drop with corr < 0.1\n",
    "drop_features = ['education', 'race', 'occupation', 'nativecountry', 'fnlwgt', 'workclass']\n",
    "train_data = train_data.drop(drop_features, axis=1)\n",
    "test_data = test_data.drop(drop_features, axis=1)"
   ]
  },
  {
   "cell_type": "code",
   "execution_count": 72,
   "id": "a5d4cd1f",
   "metadata": {},
   "outputs": [],
   "source": [
    "test_data.head()"
   ]
  },
  {
   "cell_type": "code",
   "execution_count": 20,
   "id": "b0a7b4f4",
   "metadata": {
    "ExecuteTime": {
     "end_time": "2023-05-03T13:38:02.340865600Z",
     "start_time": "2023-05-03T13:38:02.330331100Z"
    }
   },
   "outputs": [],
   "source": [
    "\n",
    "class process:\n",
    "     @staticmethod\n",
    "     def normalize(df, numerical_columns):\n",
    "         scaler = MinMaxScaler()\n",
    "         df[numerical_columns] = scaler.fit_transform(df[numerical_columns])\n",
    "         return df\n",
    "\n",
    "    \n",
    "   \n",
    "     # get one hot vectors\n",
    "     @staticmethod\n",
    "     def get_one_hot(df, column):\n",
    "         # get min(10, len(df[column].unique())) most frequent values\n",
    "         top_n = [x for x in\n",
    "                  df[column].value_counts().sort_values(ascending=False).head(min(100, len(df[column].unique()))).index]\n",
    "         for label in top_n:\n",
    "             df[column + '_' + label] = np.where(df[column] == label, 1, 0)\n",
    "         df.drop(column, axis=1, inplace=True)\n",
    "         return df\n",
    "    \n",
    "\n",
    "     # get one hot vectors for categorical columns\n",
    "     @staticmethod\n",
    "     def get_one_hot_all(df, categorical_columns, self=None):\n",
    "         for column in categorical_columns:\n",
    "             df = self.get_one_hot(df, column)\n",
    "         return df"
   ]
  },
  {
   "cell_type": "code",
   "execution_count": 21,
   "id": "ae402194",
   "metadata": {
    "ExecuteTime": {
     "end_time": "2023-05-03T13:38:03.745292800Z",
     "start_time": "2023-05-03T13:38:03.715032400Z"
    }
   },
   "outputs": [],
   "source": [
    "# Normalize numerical columns by MinMax normalization\n",
    "numerical_columns = ['age', 'educationnum', 'capitalgain', 'capitalloss', 'hoursperweek']\n",
    "train_data = process.normalize(train_data, numerical_columns)\n",
    "test_data = process.normalize(test_data, numerical_columns)"
   ]
  },
  {
   "cell_type": "code",
   "execution_count": 22,
   "id": "e4079f40",
   "metadata": {
    "ExecuteTime": {
     "end_time": "2023-05-03T13:38:04.305965400Z",
     "start_time": "2023-05-03T13:38:04.278672Z"
    }
   },
   "outputs": [
    {
     "data": {
      "text/plain": "        age  educationnum maritalstatus relationship     sex  capitalgain   \n0  0.301370      0.800000    notmarried  notinfamily    male      0.02174  \\\n1  0.452055      0.800000       married      husband    male      0.00000   \n2  0.287671      0.533333    notmarried  notinfamily    male      0.00000   \n3  0.493151      0.400000       married      husband    male      0.00000   \n4  0.150685      0.800000       married         wife  female      0.00000   \n\n   capitalloss  hoursperweek income  \n0          0.0      0.397959  <=50k  \n1          0.0      0.122449  <=50k  \n2          0.0      0.397959  <=50k  \n3          0.0      0.397959  <=50k  \n4          0.0      0.397959  <=50k  ",
      "text/html": "<div>\n<style scoped>\n    .dataframe tbody tr th:only-of-type {\n        vertical-align: middle;\n    }\n\n    .dataframe tbody tr th {\n        vertical-align: top;\n    }\n\n    .dataframe thead th {\n        text-align: right;\n    }\n</style>\n<table border=\"1\" class=\"dataframe\">\n  <thead>\n    <tr style=\"text-align: right;\">\n      <th></th>\n      <th>age</th>\n      <th>educationnum</th>\n      <th>maritalstatus</th>\n      <th>relationship</th>\n      <th>sex</th>\n      <th>capitalgain</th>\n      <th>capitalloss</th>\n      <th>hoursperweek</th>\n      <th>income</th>\n    </tr>\n  </thead>\n  <tbody>\n    <tr>\n      <th>0</th>\n      <td>0.301370</td>\n      <td>0.800000</td>\n      <td>notmarried</td>\n      <td>notinfamily</td>\n      <td>male</td>\n      <td>0.02174</td>\n      <td>0.0</td>\n      <td>0.397959</td>\n      <td>&lt;=50k</td>\n    </tr>\n    <tr>\n      <th>1</th>\n      <td>0.452055</td>\n      <td>0.800000</td>\n      <td>married</td>\n      <td>husband</td>\n      <td>male</td>\n      <td>0.00000</td>\n      <td>0.0</td>\n      <td>0.122449</td>\n      <td>&lt;=50k</td>\n    </tr>\n    <tr>\n      <th>2</th>\n      <td>0.287671</td>\n      <td>0.533333</td>\n      <td>notmarried</td>\n      <td>notinfamily</td>\n      <td>male</td>\n      <td>0.00000</td>\n      <td>0.0</td>\n      <td>0.397959</td>\n      <td>&lt;=50k</td>\n    </tr>\n    <tr>\n      <th>3</th>\n      <td>0.493151</td>\n      <td>0.400000</td>\n      <td>married</td>\n      <td>husband</td>\n      <td>male</td>\n      <td>0.00000</td>\n      <td>0.0</td>\n      <td>0.397959</td>\n      <td>&lt;=50k</td>\n    </tr>\n    <tr>\n      <th>4</th>\n      <td>0.150685</td>\n      <td>0.800000</td>\n      <td>married</td>\n      <td>wife</td>\n      <td>female</td>\n      <td>0.00000</td>\n      <td>0.0</td>\n      <td>0.397959</td>\n      <td>&lt;=50k</td>\n    </tr>\n  </tbody>\n</table>\n</div>"
     },
     "execution_count": 22,
     "metadata": {},
     "output_type": "execute_result"
    }
   ],
   "source": [
    "train_data.head()"
   ]
  },
  {
   "cell_type": "code",
   "execution_count": 23,
   "id": "188438b2",
   "metadata": {
    "ExecuteTime": {
     "end_time": "2023-05-03T13:38:05.416699600Z",
     "start_time": "2023-05-03T13:38:05.351526200Z"
    }
   },
   "outputs": [],
   "source": [
    "# get one hot vectors for categorical columns\n",
    "categorical_columns = [ 'maritalstatus',  'relationship',  'sex']\n",
    "train_data = process.get_one_hot_all(train_data, categorical_columns,process)\n",
    "test_data = process.get_one_hot_all(test_data, categorical_columns, process)"
   ]
  },
  {
   "cell_type": "code",
   "execution_count": 24,
   "id": "00457eda",
   "metadata": {
    "ExecuteTime": {
     "end_time": "2023-05-03T13:38:05.913888200Z",
     "start_time": "2023-05-03T13:38:05.804934400Z"
    }
   },
   "outputs": [
    {
     "data": {
      "text/plain": "        age  educationnum  capitalgain  capitalloss  hoursperweek income   \n0  0.301370      0.800000      0.02174          0.0      0.397959  <=50k  \\\n1  0.452055      0.800000      0.00000          0.0      0.122449  <=50k   \n2  0.287671      0.533333      0.00000          0.0      0.397959  <=50k   \n3  0.493151      0.400000      0.00000          0.0      0.397959  <=50k   \n4  0.150685      0.800000      0.00000          0.0      0.397959  <=50k   \n\n   maritalstatus_notmarried  maritalstatus_married  relationship_husband   \n0                         1                      0                     0  \\\n1                         0                      1                     1   \n2                         1                      0                     0   \n3                         0                      1                     1   \n4                         0                      1                     0   \n\n   relationship_notinfamily  relationship_ownchild  relationship_unmarried   \n0                         1                      0                       0  \\\n1                         0                      0                       0   \n2                         1                      0                       0   \n3                         0                      0                       0   \n4                         0                      0                       0   \n\n   relationship_wife  relationship_otherrelative  sex_male  sex_female  \n0                  0                           0         1           0  \n1                  0                           0         1           0  \n2                  0                           0         1           0  \n3                  0                           0         1           0  \n4                  1                           0         0           1  ",
      "text/html": "<div>\n<style scoped>\n    .dataframe tbody tr th:only-of-type {\n        vertical-align: middle;\n    }\n\n    .dataframe tbody tr th {\n        vertical-align: top;\n    }\n\n    .dataframe thead th {\n        text-align: right;\n    }\n</style>\n<table border=\"1\" class=\"dataframe\">\n  <thead>\n    <tr style=\"text-align: right;\">\n      <th></th>\n      <th>age</th>\n      <th>educationnum</th>\n      <th>capitalgain</th>\n      <th>capitalloss</th>\n      <th>hoursperweek</th>\n      <th>income</th>\n      <th>maritalstatus_notmarried</th>\n      <th>maritalstatus_married</th>\n      <th>relationship_husband</th>\n      <th>relationship_notinfamily</th>\n      <th>relationship_ownchild</th>\n      <th>relationship_unmarried</th>\n      <th>relationship_wife</th>\n      <th>relationship_otherrelative</th>\n      <th>sex_male</th>\n      <th>sex_female</th>\n    </tr>\n  </thead>\n  <tbody>\n    <tr>\n      <th>0</th>\n      <td>0.301370</td>\n      <td>0.800000</td>\n      <td>0.02174</td>\n      <td>0.0</td>\n      <td>0.397959</td>\n      <td>&lt;=50k</td>\n      <td>1</td>\n      <td>0</td>\n      <td>0</td>\n      <td>1</td>\n      <td>0</td>\n      <td>0</td>\n      <td>0</td>\n      <td>0</td>\n      <td>1</td>\n      <td>0</td>\n    </tr>\n    <tr>\n      <th>1</th>\n      <td>0.452055</td>\n      <td>0.800000</td>\n      <td>0.00000</td>\n      <td>0.0</td>\n      <td>0.122449</td>\n      <td>&lt;=50k</td>\n      <td>0</td>\n      <td>1</td>\n      <td>1</td>\n      <td>0</td>\n      <td>0</td>\n      <td>0</td>\n      <td>0</td>\n      <td>0</td>\n      <td>1</td>\n      <td>0</td>\n    </tr>\n    <tr>\n      <th>2</th>\n      <td>0.287671</td>\n      <td>0.533333</td>\n      <td>0.00000</td>\n      <td>0.0</td>\n      <td>0.397959</td>\n      <td>&lt;=50k</td>\n      <td>1</td>\n      <td>0</td>\n      <td>0</td>\n      <td>1</td>\n      <td>0</td>\n      <td>0</td>\n      <td>0</td>\n      <td>0</td>\n      <td>1</td>\n      <td>0</td>\n    </tr>\n    <tr>\n      <th>3</th>\n      <td>0.493151</td>\n      <td>0.400000</td>\n      <td>0.00000</td>\n      <td>0.0</td>\n      <td>0.397959</td>\n      <td>&lt;=50k</td>\n      <td>0</td>\n      <td>1</td>\n      <td>1</td>\n      <td>0</td>\n      <td>0</td>\n      <td>0</td>\n      <td>0</td>\n      <td>0</td>\n      <td>1</td>\n      <td>0</td>\n    </tr>\n    <tr>\n      <th>4</th>\n      <td>0.150685</td>\n      <td>0.800000</td>\n      <td>0.00000</td>\n      <td>0.0</td>\n      <td>0.397959</td>\n      <td>&lt;=50k</td>\n      <td>0</td>\n      <td>1</td>\n      <td>0</td>\n      <td>0</td>\n      <td>0</td>\n      <td>0</td>\n      <td>1</td>\n      <td>0</td>\n      <td>0</td>\n      <td>1</td>\n    </tr>\n  </tbody>\n</table>\n</div>"
     },
     "execution_count": 24,
     "metadata": {},
     "output_type": "execute_result"
    }
   ],
   "source": [
    "train_data.head()"
   ]
  },
  {
   "cell_type": "code",
   "execution_count": 25,
   "id": "e9e90dcc",
   "metadata": {
    "ExecuteTime": {
     "end_time": "2023-05-03T13:38:07.166357100Z",
     "start_time": "2023-05-03T13:38:07.141721600Z"
    }
   },
   "outputs": [
    {
     "name": "stdout",
     "output_type": "stream",
     "text": [
      "(32537, 16)\n",
      "(16281, 16)\n"
     ]
    }
   ],
   "source": [
    "print(train_data.shape)\n",
    "print(test_data.shape)"
   ]
  },
  {
   "cell_type": "code",
   "execution_count": 26,
   "id": "9c58319e",
   "metadata": {
    "scrolled": true,
    "ExecuteTime": {
     "end_time": "2023-05-03T13:38:07.729154200Z",
     "start_time": "2023-05-03T13:38:07.707833Z"
    }
   },
   "outputs": [
    {
     "data": {
      "text/plain": "        age  educationnum  capitalgain  capitalloss  hoursperweek   \n0  0.301370      0.800000      0.02174          0.0      0.397959  \\\n1  0.452055      0.800000      0.00000          0.0      0.122449   \n2  0.287671      0.533333      0.00000          0.0      0.397959   \n3  0.493151      0.400000      0.00000          0.0      0.397959   \n4  0.150685      0.800000      0.00000          0.0      0.397959   \n\n   maritalstatus_notmarried  maritalstatus_married  relationship_husband   \n0                         1                      0                     0  \\\n1                         0                      1                     1   \n2                         1                      0                     0   \n3                         0                      1                     1   \n4                         0                      1                     0   \n\n   relationship_notinfamily  relationship_ownchild  relationship_unmarried   \n0                         1                      0                       0  \\\n1                         0                      0                       0   \n2                         1                      0                       0   \n3                         0                      0                       0   \n4                         0                      0                       0   \n\n   relationship_wife  relationship_otherrelative  sex_male  sex_female  \n0                  0                           0         1           0  \n1                  0                           0         1           0  \n2                  0                           0         1           0  \n3                  0                           0         1           0  \n4                  1                           0         0           1  ",
      "text/html": "<div>\n<style scoped>\n    .dataframe tbody tr th:only-of-type {\n        vertical-align: middle;\n    }\n\n    .dataframe tbody tr th {\n        vertical-align: top;\n    }\n\n    .dataframe thead th {\n        text-align: right;\n    }\n</style>\n<table border=\"1\" class=\"dataframe\">\n  <thead>\n    <tr style=\"text-align: right;\">\n      <th></th>\n      <th>age</th>\n      <th>educationnum</th>\n      <th>capitalgain</th>\n      <th>capitalloss</th>\n      <th>hoursperweek</th>\n      <th>maritalstatus_notmarried</th>\n      <th>maritalstatus_married</th>\n      <th>relationship_husband</th>\n      <th>relationship_notinfamily</th>\n      <th>relationship_ownchild</th>\n      <th>relationship_unmarried</th>\n      <th>relationship_wife</th>\n      <th>relationship_otherrelative</th>\n      <th>sex_male</th>\n      <th>sex_female</th>\n    </tr>\n  </thead>\n  <tbody>\n    <tr>\n      <th>0</th>\n      <td>0.301370</td>\n      <td>0.800000</td>\n      <td>0.02174</td>\n      <td>0.0</td>\n      <td>0.397959</td>\n      <td>1</td>\n      <td>0</td>\n      <td>0</td>\n      <td>1</td>\n      <td>0</td>\n      <td>0</td>\n      <td>0</td>\n      <td>0</td>\n      <td>1</td>\n      <td>0</td>\n    </tr>\n    <tr>\n      <th>1</th>\n      <td>0.452055</td>\n      <td>0.800000</td>\n      <td>0.00000</td>\n      <td>0.0</td>\n      <td>0.122449</td>\n      <td>0</td>\n      <td>1</td>\n      <td>1</td>\n      <td>0</td>\n      <td>0</td>\n      <td>0</td>\n      <td>0</td>\n      <td>0</td>\n      <td>1</td>\n      <td>0</td>\n    </tr>\n    <tr>\n      <th>2</th>\n      <td>0.287671</td>\n      <td>0.533333</td>\n      <td>0.00000</td>\n      <td>0.0</td>\n      <td>0.397959</td>\n      <td>1</td>\n      <td>0</td>\n      <td>0</td>\n      <td>1</td>\n      <td>0</td>\n      <td>0</td>\n      <td>0</td>\n      <td>0</td>\n      <td>1</td>\n      <td>0</td>\n    </tr>\n    <tr>\n      <th>3</th>\n      <td>0.493151</td>\n      <td>0.400000</td>\n      <td>0.00000</td>\n      <td>0.0</td>\n      <td>0.397959</td>\n      <td>0</td>\n      <td>1</td>\n      <td>1</td>\n      <td>0</td>\n      <td>0</td>\n      <td>0</td>\n      <td>0</td>\n      <td>0</td>\n      <td>1</td>\n      <td>0</td>\n    </tr>\n    <tr>\n      <th>4</th>\n      <td>0.150685</td>\n      <td>0.800000</td>\n      <td>0.00000</td>\n      <td>0.0</td>\n      <td>0.397959</td>\n      <td>0</td>\n      <td>1</td>\n      <td>0</td>\n      <td>0</td>\n      <td>0</td>\n      <td>0</td>\n      <td>1</td>\n      <td>0</td>\n      <td>0</td>\n      <td>1</td>\n    </tr>\n  </tbody>\n</table>\n</div>"
     },
     "execution_count": 26,
     "metadata": {},
     "output_type": "execute_result"
    }
   ],
   "source": [
    "# get labels\n",
    "YTrain = train_data['income'].replace(['<=50k', '>50k'], [0, 1])\n",
    "\n",
    "# get features\n",
    "XTrain = train_data.drop(['income'], axis=1)\n",
    "XTrain.head()"
   ]
  },
  {
   "cell_type": "code",
   "execution_count": 27,
   "id": "44b4057f",
   "metadata": {
    "ExecuteTime": {
     "end_time": "2023-05-03T13:38:09.009674600Z",
     "start_time": "2023-05-03T13:38:08.934587600Z"
    }
   },
   "outputs": [
    {
     "data": {
      "text/plain": "        age  educationnum  capitalgain  capitalloss  hoursperweek   \n0  0.109589      0.400000     0.000000          0.0      0.397959  \\\n1  0.287671      0.533333     0.000000          0.0      0.500000   \n2  0.150685      0.733333     0.000000          0.0      0.397959   \n3  0.369863      0.600000     0.076881          0.0      0.397959   \n4  0.013699      0.600000     0.000000          0.0      0.295918   \n\n   maritalstatus_notmarried  maritalstatus_married  relationship_husband   \n0                         1                      0                     0  \\\n1                         0                      1                     1   \n2                         0                      1                     1   \n3                         0                      1                     1   \n4                         1                      0                     0   \n\n   relationship_notinfamily  relationship_ownchild  relationship_unmarried   \n0                         0                      1                       0  \\\n1                         0                      0                       0   \n2                         0                      0                       0   \n3                         0                      0                       0   \n4                         0                      1                       0   \n\n   relationship_wife  relationship_otherrelative  sex_male  sex_female  \n0                  0                           0         1           0  \n1                  0                           0         1           0  \n2                  0                           0         1           0  \n3                  0                           0         1           0  \n4                  0                           0         0           1  ",
      "text/html": "<div>\n<style scoped>\n    .dataframe tbody tr th:only-of-type {\n        vertical-align: middle;\n    }\n\n    .dataframe tbody tr th {\n        vertical-align: top;\n    }\n\n    .dataframe thead th {\n        text-align: right;\n    }\n</style>\n<table border=\"1\" class=\"dataframe\">\n  <thead>\n    <tr style=\"text-align: right;\">\n      <th></th>\n      <th>age</th>\n      <th>educationnum</th>\n      <th>capitalgain</th>\n      <th>capitalloss</th>\n      <th>hoursperweek</th>\n      <th>maritalstatus_notmarried</th>\n      <th>maritalstatus_married</th>\n      <th>relationship_husband</th>\n      <th>relationship_notinfamily</th>\n      <th>relationship_ownchild</th>\n      <th>relationship_unmarried</th>\n      <th>relationship_wife</th>\n      <th>relationship_otherrelative</th>\n      <th>sex_male</th>\n      <th>sex_female</th>\n    </tr>\n  </thead>\n  <tbody>\n    <tr>\n      <th>0</th>\n      <td>0.109589</td>\n      <td>0.400000</td>\n      <td>0.000000</td>\n      <td>0.0</td>\n      <td>0.397959</td>\n      <td>1</td>\n      <td>0</td>\n      <td>0</td>\n      <td>0</td>\n      <td>1</td>\n      <td>0</td>\n      <td>0</td>\n      <td>0</td>\n      <td>1</td>\n      <td>0</td>\n    </tr>\n    <tr>\n      <th>1</th>\n      <td>0.287671</td>\n      <td>0.533333</td>\n      <td>0.000000</td>\n      <td>0.0</td>\n      <td>0.500000</td>\n      <td>0</td>\n      <td>1</td>\n      <td>1</td>\n      <td>0</td>\n      <td>0</td>\n      <td>0</td>\n      <td>0</td>\n      <td>0</td>\n      <td>1</td>\n      <td>0</td>\n    </tr>\n    <tr>\n      <th>2</th>\n      <td>0.150685</td>\n      <td>0.733333</td>\n      <td>0.000000</td>\n      <td>0.0</td>\n      <td>0.397959</td>\n      <td>0</td>\n      <td>1</td>\n      <td>1</td>\n      <td>0</td>\n      <td>0</td>\n      <td>0</td>\n      <td>0</td>\n      <td>0</td>\n      <td>1</td>\n      <td>0</td>\n    </tr>\n    <tr>\n      <th>3</th>\n      <td>0.369863</td>\n      <td>0.600000</td>\n      <td>0.076881</td>\n      <td>0.0</td>\n      <td>0.397959</td>\n      <td>0</td>\n      <td>1</td>\n      <td>1</td>\n      <td>0</td>\n      <td>0</td>\n      <td>0</td>\n      <td>0</td>\n      <td>0</td>\n      <td>1</td>\n      <td>0</td>\n    </tr>\n    <tr>\n      <th>4</th>\n      <td>0.013699</td>\n      <td>0.600000</td>\n      <td>0.000000</td>\n      <td>0.0</td>\n      <td>0.295918</td>\n      <td>1</td>\n      <td>0</td>\n      <td>0</td>\n      <td>0</td>\n      <td>1</td>\n      <td>0</td>\n      <td>0</td>\n      <td>0</td>\n      <td>0</td>\n      <td>1</td>\n    </tr>\n  </tbody>\n</table>\n</div>"
     },
     "execution_count": 27,
     "metadata": {},
     "output_type": "execute_result"
    }
   ],
   "source": [
    "# get labels\n",
    "YTest = test_data['income'].replace(['<=50k', '>50k'], [0, 1])\n",
    "\n",
    "# get features\n",
    "XTest = test_data.drop(['income'], axis=1)\n",
    "XTest.head()"
   ]
  },
  {
   "cell_type": "markdown",
   "id": "588b644f",
   "metadata": {},
   "source": [
    "# classifiers"
   ]
  },
  {
   "cell_type": "code",
   "execution_count": 28,
   "id": "1f11ea28",
   "metadata": {
    "ExecuteTime": {
     "end_time": "2023-05-03T13:38:11.309460300Z",
     "start_time": "2023-05-03T13:38:11.287650800Z"
    }
   },
   "outputs": [],
   "source": [
    "class classifiers:\n",
    "    def Evaluation(YTest, YPred, method=''):\n",
    "        print('====================== ' + method + ' ======================')\n",
    "        acc = accuracy_score(YTest, YPred) * 100\n",
    "        print('Accuracy is %.3f%%.' % acc)\n",
    "        conf = confusion_matrix(YTest, YPred)\n",
    "        print(pd.DataFrame(conf, columns=['Pred-Neg', 'Pred-Pos'], index=['Actl-Neg', 'Actl-Pos']))\n",
    "        precision = conf[1][1] / (conf[0][1] + conf[1][1]) if (conf[0][1] + conf[1][1]) else 0\n",
    "        recall = conf[1][1] / (conf[1][0] + conf[1][1]) if (conf[1][0] + conf[1][1]) else 0\n",
    "        F1 = 2 * precision * recall / (precision + recall) if (precision + recall) else 0\n",
    "        print('Precision is %.3f.' % precision)\n",
    "        print('Recall is %.3f.' % recall)\n",
    "        print('F1 score is %.3f.' % F1)\n",
    "        conf = confusion_matrix(YTest, YPred)\n",
    "        print('confusion_matrix :')\n",
    "        print('TP = ', conf[0][0])#TP = True Positive\n",
    "        print('FP = ', conf[0][1])#FP = False Positive\n",
    "        print('FN = ', conf[1][0])#FN = False Negative\n",
    "        print('TN = ', conf[1][1])#TN = True Negative\n",
    "\n",
    "\n",
    "\n",
    "    @staticmethod\n",
    "    def LogisticRegression(XTrain, YTrain, XTest, YTest, self=None):\n",
    "        model = LogisticRegression()\n",
    "        model.fit(XTrain, YTrain)\n",
    "        YPred = model.predict(XTest)\n",
    "        self.Evaluation(YTest, YPred, 'Logistic Regression')\n",
    "\n",
    "    @staticmethod\n",
    "    def SVM(XTrain, YTrain, XTest, YTest, self=None):\n",
    "        model = SVC()\n",
    "        model.fit(XTrain, YTrain)\n",
    "        YPred = model.predict(XTest)\n",
    "        self.Evaluation(YTest, YPred, 'SVM')\n",
    "\n",
    "    @staticmethod\n",
    "    def DecisionTree(XTrain, YTrain, XTest, YTest, self=None):\n",
    "        model = DecisionTreeClassifier()\n",
    "        model.fit(XTrain, YTrain)\n",
    "        YPred = model.predict(XTest)\n",
    "        self.Evaluation(YTest, YPred, 'Decision Tree')"
   ]
  },
  {
   "cell_type": "code",
   "execution_count": 29,
   "id": "5832bd44",
   "metadata": {
    "ExecuteTime": {
     "end_time": "2023-05-03T13:38:12.426586Z",
     "start_time": "2023-05-03T13:38:12.278242900Z"
    }
   },
   "outputs": [
    {
     "name": "stdout",
     "output_type": "stream",
     "text": [
      "====================== Logistic Regression ======================\n",
      "Accuracy is 84.067%.\n",
      "          Pred-Neg  Pred-Pos\n",
      "Actl-Neg     11531       904\n",
      "Actl-Pos      1690      2156\n",
      "Precision is 0.705.\n",
      "Recall is 0.561.\n",
      "F1 score is 0.624.\n",
      "confusion_matrix :\n",
      "TP =  11531\n",
      "FP =  904\n",
      "FN =  1690\n",
      "TN =  2156\n"
     ]
    }
   ],
   "source": [
    "classifiers.LogisticRegression(XTrain, YTrain, XTest, YTest, classifiers)"
   ]
  },
  {
   "cell_type": "code",
   "execution_count": 31,
   "id": "d8028ad1",
   "metadata": {
    "ExecuteTime": {
     "end_time": "2023-05-03T13:38:49.685638500Z",
     "start_time": "2023-05-03T13:38:25.431847600Z"
    }
   },
   "outputs": [
    {
     "name": "stdout",
     "output_type": "stream",
     "text": [
      "====================== SVM ======================\n",
      "Accuracy is 84.436%.\n",
      "          Pred-Neg  Pred-Pos\n",
      "Actl-Neg     11708       727\n",
      "Actl-Pos      1807      2039\n",
      "Precision is 0.737.\n",
      "Recall is 0.530.\n",
      "F1 score is 0.617.\n",
      "confusion_matrix :\n",
      "TP =  11708\n",
      "FP =  727\n",
      "FN =  1807\n",
      "TN =  2039\n"
     ]
    }
   ],
   "source": [
    "classifiers.SVM(XTrain, YTrain, XTest, YTest, classifiers)"
   ]
  },
  {
   "cell_type": "code",
   "execution_count": 30,
   "id": "f8a9adb4",
   "metadata": {
    "ExecuteTime": {
     "end_time": "2023-05-03T13:38:20.622501700Z",
     "start_time": "2023-05-03T13:38:20.550047500Z"
    }
   },
   "outputs": [
    {
     "name": "stdout",
     "output_type": "stream",
     "text": [
      "====================== Decision Tree ======================\n",
      "Accuracy is 81.647%.\n",
      "          Pred-Neg  Pred-Pos\n",
      "Actl-Neg     11289      1146\n",
      "Actl-Pos      1842      2004\n",
      "Precision is 0.636.\n",
      "Recall is 0.521.\n",
      "F1 score is 0.573.\n",
      "confusion_matrix :\n",
      "TP =  11289\n",
      "FP =  1146\n",
      "FN =  1842\n",
      "TN =  2004\n"
     ]
    }
   ],
   "source": [
    "classifiers.DecisionTree(XTrain, YTrain, XTest, YTest, classifiers)"
   ]
  },
  {
   "cell_type": "code",
   "execution_count": null,
   "id": "7e800b5f",
   "metadata": {},
   "outputs": [],
   "source": []
  },
  {
   "cell_type": "code",
   "execution_count": null,
   "id": "cab21090",
   "metadata": {},
   "outputs": [],
   "source": []
  },
  {
   "cell_type": "code",
   "execution_count": null,
   "id": "7a8275ac",
   "metadata": {},
   "outputs": [],
   "source": []
  },
  {
   "cell_type": "code",
   "execution_count": null,
   "id": "f898a693",
   "metadata": {},
   "outputs": [],
   "source": []
  },
  {
   "cell_type": "code",
   "execution_count": null,
   "id": "c86f2136",
   "metadata": {},
   "outputs": [],
   "source": []
  },
  {
   "cell_type": "code",
   "execution_count": null,
   "id": "ec496120",
   "metadata": {},
   "outputs": [],
   "source": []
  },
  {
   "cell_type": "code",
   "execution_count": null,
   "id": "973cc9cb",
   "metadata": {},
   "outputs": [],
   "source": []
  }
 ],
 "metadata": {
  "kernelspec": {
   "display_name": "Python 3 (ipykernel)",
   "language": "python",
   "name": "python3"
  },
  "language_info": {
   "codemirror_mode": {
    "name": "ipython",
    "version": 3
   },
   "file_extension": ".py",
   "mimetype": "text/x-python",
   "name": "python",
   "nbconvert_exporter": "python",
   "pygments_lexer": "ipython3",
   "version": "3.9.12"
  }
 },
 "nbformat": 4,
 "nbformat_minor": 5
}
